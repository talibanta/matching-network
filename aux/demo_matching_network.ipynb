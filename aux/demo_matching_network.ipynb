{
 "cells": [
  {
   "cell_type": "markdown",
   "metadata": {},
   "source": [
    "This project is part of **syRF**: https://urbanij.github.io/syRF/#Matching-networks\n",
    "\n",
    "See how this was done: https://urbanij.github.io/projects/matching_networks/"
   ]
  },
  {
   "cell_type": "code",
   "execution_count": null,
   "metadata": {},
   "outputs": [],
   "source": []
  },
  {
   "cell_type": "code",
   "execution_count": 1,
   "metadata": {},
   "outputs": [
    {
     "name": "stdout",
     "output_type": "stream",
     "text": [
      "Requirement already satisfied: matching_network in /usr/local/lib/python3.8/site-packages (0.0.0)\r\n"
     ]
    }
   ],
   "source": [
    "!pip3.8 install matching_network"
   ]
  },
  {
   "cell_type": "code",
   "execution_count": null,
   "metadata": {},
   "outputs": [],
   "source": []
  },
  {
   "cell_type": "code",
   "execution_count": 2,
   "metadata": {},
   "outputs": [],
   "source": [
    "import matching_network.L_section as mn"
   ]
  },
  {
   "cell_type": "code",
   "execution_count": null,
   "metadata": {},
   "outputs": [],
   "source": []
  },
  {
   "cell_type": "code",
   "execution_count": null,
   "metadata": {},
   "outputs": [],
   "source": []
  },
  {
   "cell_type": "markdown",
   "metadata": {},
   "source": [
    "### example 1"
   ]
  },
  {
   "cell_type": "code",
   "execution_count": 3,
   "metadata": {},
   "outputs": [
    {
     "data": {
      "text/plain": [
       "From (90+32j) Ω to 175 Ω\n",
       "\n",
       "normalized starting impedance = (90+32j)Ω/175Ω = 0.51429+0.18286j\n",
       "\n",
       "#solutions: 2\n",
       "\n",
       "series-shunt\n",
       "\tSeries Inductor:\n",
       "\tX = 55.464 Ω ⇔ B = -18.03 mS\n",
       "\t\u001b[1mL\u001b[0;0m = \u001b[1m9.8082 nH\u001b[0;0m  (@ 900 MHz)\n",
       "\tShunt Capacitor:\n",
       "\tX = -180.07 Ω ⇔ B = 5.5533 mS\n",
       "\t\u001b[1mC\u001b[0;0m = \u001b[1m982.04 fF\u001b[0;0m  (@ 900 MHz)\n",
       "series-shunt\n",
       "\tSeries Capacitor:\n",
       "\tX = -119.46 Ω ⇔ B = 8.3707 mS\n",
       "\t\u001b[1mC\u001b[0;0m = \u001b[1m1.4803 pF\u001b[0;0m  (@ 900 MHz)\n",
       "\tShunt Inductor:\n",
       "\tX = 180.07 Ω ⇔ B = -5.5533 mS\n",
       "\t\u001b[1mL\u001b[0;0m = \u001b[1m31.844 nH\u001b[0;0m  (@ 900 MHz)"
      ]
     },
     "execution_count": 3,
     "metadata": {},
     "output_type": "execute_result"
    }
   ],
   "source": [
    "impedance_you_have = 90+32j         # Ω \n",
    "impedance_you_want_to_have = 175    # Ω\n",
    "\n",
    "frequency = 900e6                   # Hz\n",
    "\n",
    "mn.L_section_matching(impedance_you_have, impedance_you_want_to_have, frequency).match()"
   ]
  },
  {
   "cell_type": "code",
   "execution_count": null,
   "metadata": {},
   "outputs": [],
   "source": []
  },
  {
   "cell_type": "code",
   "execution_count": null,
   "metadata": {},
   "outputs": [],
   "source": []
  },
  {
   "cell_type": "markdown",
   "metadata": {},
   "source": [
    "### example 2"
   ]
  },
  {
   "cell_type": "code",
   "execution_count": 4,
   "metadata": {},
   "outputs": [
    {
     "data": {
      "text/plain": [
       "From (90+32j) Ω to 100 Ω\n",
       "\n",
       "normalized starting impedance = (90+32j)Ω/100Ω = 0.9+0.32j\n",
       "\n",
       "#solutions: 4\n",
       "\n",
       "shunt-series\n",
       "\tShunt Capacitor:\n",
       "\tX = -425.64 Ω ⇔ B = 2.3494 mS\n",
       "\t\u001b[1mC\u001b[0;0m = \u001b[1m27.575 pF\u001b[0;0m  (@ 13.56 MHz)\n",
       "\tSeries Capacitor:\n",
       "\tX = -11.738 Ω ⇔ B = 85.194 mS\n",
       "\t\u001b[1mC\u001b[0;0m = \u001b[1m999.93 pF\u001b[0;0m  (@ 13.56 MHz)\n",
       "shunt-series\n",
       "\tShunt Capacitor:\n",
       "\tX = -214.36 Ω ⇔ B = 4.6651 mS\n",
       "\t\u001b[1mC\u001b[0;0m = \u001b[1m54.754 pF\u001b[0;0m  (@ 13.56 MHz)\n",
       "\tSeries Inductor:\n",
       "\tX = 11.738 Ω ⇔ B = -85.194 mS\n",
       "\t\u001b[1mL\u001b[0;0m = \u001b[1m137.77 nH\u001b[0;0m  (@ 13.56 MHz)\n",
       "series-shunt\n",
       "\tSeries Capacitor:\n",
       "\tX = -2 Ω ⇔ B = 500 mS\n",
       "\t\u001b[1mC\u001b[0;0m = \u001b[1m5.8685 nF\u001b[0;0m  (@ 13.56 MHz)\n",
       "\tShunt Capacitor:\n",
       "\tX = -300 Ω ⇔ B = 3.3333 mS\n",
       "\t\u001b[1mC\u001b[0;0m = \u001b[1m39.124 pF\u001b[0;0m  (@ 13.56 MHz)\n",
       "series-shunt\n",
       "\tSeries Capacitor:\n",
       "\tX = -62 Ω ⇔ B = 16.129 mS\n",
       "\t\u001b[1mC\u001b[0;0m = \u001b[1m189.31 pF\u001b[0;0m  (@ 13.56 MHz)\n",
       "\tShunt Inductor:\n",
       "\tX = 300 Ω ⇔ B = -3.3333 mS\n",
       "\t\u001b[1mL\u001b[0;0m = \u001b[1m3.5211 uH\u001b[0;0m  (@ 13.56 MHz)"
      ]
     },
     "execution_count": 4,
     "metadata": {},
     "output_type": "execute_result"
    }
   ],
   "source": [
    "# example 2\n",
    "\n",
    "impedance_you_have = 90+32j         # Ω \n",
    "impedance_you_want_to_have = 100    # Ω\n",
    "\n",
    "frequency = 13.56e6                 # Hz\n",
    "\n",
    "mn.L_section_matching(impedance_you_have, impedance_you_want_to_have, frequency).match()"
   ]
  },
  {
   "cell_type": "code",
   "execution_count": null,
   "metadata": {},
   "outputs": [],
   "source": []
  },
  {
   "cell_type": "code",
   "execution_count": null,
   "metadata": {},
   "outputs": [],
   "source": []
  }
 ],
 "metadata": {
  "kernelspec": {
   "display_name": "Python 3",
   "language": "python",
   "name": "python3"
  },
  "language_info": {
   "codemirror_mode": {
    "name": "ipython",
    "version": 3
   },
   "file_extension": ".py",
   "mimetype": "text/x-python",
   "name": "python",
   "nbconvert_exporter": "python",
   "pygments_lexer": "ipython3",
   "version": "3.8.1"
  },
  "varInspector": {
   "cols": {
    "lenName": 16,
    "lenType": 16,
    "lenVar": 40
   },
   "kernels_config": {
    "python": {
     "delete_cmd_postfix": "",
     "delete_cmd_prefix": "del ",
     "library": "var_list.py",
     "varRefreshCmd": "print(var_dic_list())"
    },
    "r": {
     "delete_cmd_postfix": ") ",
     "delete_cmd_prefix": "rm(",
     "library": "var_list.r",
     "varRefreshCmd": "cat(var_dic_list()) "
    }
   },
   "types_to_exclude": [
    "module",
    "function",
    "builtin_function_or_method",
    "instance",
    "_Feature"
   ],
   "window_display": false
  }
 },
 "nbformat": 4,
 "nbformat_minor": 4
}
