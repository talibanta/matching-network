{
 "cells": [
  {
   "cell_type": "markdown",
   "metadata": {},
   "source": [
    "## L section matching network\n",
    "\n",
    "&nbsp;&nbsp;&nbsp;&nbsp;&nbsp;&nbsp; Notebook for designing an L-section matching network.<br>\n",
    "        \n",
    "&nbsp;&nbsp;&nbsp;&nbsp;&nbsp;&nbsp; Sat Mar 21 15:50:57 CET 2020<br>\n",
    "   \n",
    "&nbsp;&nbsp;&nbsp;&nbsp;&nbsp;&nbsp; Francesco Urbani <https://urbanij.github.io/><br>\n",
    "\n"
   ]
  },
  {
   "cell_type": "markdown",
   "metadata": {},
   "source": [
    "#### MATLAB calculation"
   ]
  },
  {
   "cell_type": "code",
   "execution_count": 1,
   "metadata": {},
   "outputs": [],
   "source": [
    "% declaring symbols\n",
    "\n",
    "syms    R1 real;     % Ω  \n",
    "syms    X1 real;     % Ω \n",
    "\n",
    "syms    R2 real;     % Ω \n",
    "syms    X2 real;     % Ω \n",
    "\n",
    "syms    Xshu real;   % Ω \n",
    "syms    Xser real;   % Ω"
   ]
  },
  {
   "cell_type": "code",
   "execution_count": null,
   "metadata": {},
   "outputs": [],
   "source": []
  },
  {
   "cell_type": "markdown",
   "metadata": {},
   "source": [
    "## Shunt-series\n",
    "\n",
    "![shunt_series](figures/shunt_series_configuration.png)\n",
    "\n",
    "$$\n",
    "Z_2 = R_2 + jX_2 = jX_{ser} + \\frac{1}{\\frac{1}{jX_{shu}} + \\frac{1}{R_1 + jX_1}}\n",
    "$$\n",
    "\n"
   ]
  },
  {
   "cell_type": "code",
   "execution_count": 2,
   "metadata": {},
   "outputs": [],
   "source": [
    "Z2 = j*Xser + 1/(1/(j*Xshu) + 1/(R1+j*X1));"
   ]
  },
  {
   "cell_type": "code",
   "execution_count": 3,
   "metadata": {},
   "outputs": [
    {
     "name": "stdout",
     "output_type": "stream",
     "text": [
      "                         R1\n",
      "----------------------------------------------------\n",
      "            /        2                             \\\n",
      "   2     2  |      R1        /   1        X1    \\2 |\n",
      "(R1  + X1 ) | ------------ + | ---- + --------- |  |\n",
      "            |    2     2 2   | Xshu     2     2 |  |\n",
      "            \\ (R1  + X1 )    \\        R1  + X1  /  /\n",
      "\n"
     ]
    }
   ],
   "source": [
    "pretty(real(Z2))"
   ]
  },
  {
   "cell_type": "code",
   "execution_count": 4,
   "metadata": {},
   "outputs": [
    {
     "name": "stdout",
     "output_type": "stream",
     "text": [
      "                   1        X1\n",
      "                 ---- + ---------\n",
      "                 Xshu     2     2\n",
      "                        R1  + X1\n",
      "Xser + ------------------------------------\n",
      "              2\n",
      "            R1        /   1        X1    \\2\n",
      "       ------------ + | ---- + --------- |\n",
      "          2     2 2   | Xshu     2     2 |\n",
      "       (R1  + X1 )    \\        R1  + X1  /\n",
      "\n"
     ]
    }
   ],
   "source": [
    "pretty(imag(Z2))"
   ]
  },
  {
   "cell_type": "code",
   "execution_count": 5,
   "metadata": {},
   "outputs": [
    {
     "name": "stdout",
     "output_type": "stream",
     "text": [
      "Warning: Solutions are only valid under certain conditions. To include parameters and conditions in the solution, specify the 'ReturnConditions' value as 'true'.\n",
      "> In sym/solve>warnIfParams (line 478)\n",
      "  In sym/solve (line 357)\n",
      "\n",
      "S = \n",
      "\n",
      "  struct with fields:\n",
      "\n",
      "    Xshu: [2x1 sym]\n",
      "    Xser: [2x1 sym]\n",
      "\n"
     ]
    }
   ],
   "source": [
    "% solving the system \n",
    "eq1 = real(Z2) == R2;\n",
    "eq2 = imag(Z2) == X2;\n",
    "\n",
    "S=solve(eq1,eq2, Xshu, Xser)"
   ]
  },
  {
   "cell_type": "code",
   "execution_count": 6,
   "metadata": {},
   "outputs": [
    {
     "name": "stdout",
     "output_type": "stream",
     "text": [
      "/                    /          /       2             2  \\ \\ \\\n",
      "|                    |          | R2 (R1  - R2 R1 + X1 ) | | |\n",
      "| R1 X2 + R2 X1 - R1 | X2 - sqrt| ---------------------- | | |\n",
      "|                    \\          \\           R1           / / |\n",
      "| ---------------------------------------------------------- |\n",
      "|                           R1 - R2                          |\n",
      "|                                                            |\n",
      "|                    /          /       2             2  \\ \\ |\n",
      "|                    |          | R2 (R1  - R2 R1 + X1 ) | | |\n",
      "| R1 X2 + R2 X1 - R1 | X2 + sqrt| ---------------------- | | |\n",
      "|                    \\          \\           R1           / / |\n",
      "| ---------------------------------------------------------- |\n",
      "\\                           R1 - R2                          /\n",
      "\n"
     ]
    }
   ],
   "source": [
    "pretty(S.Xshu)"
   ]
  },
  {
   "cell_type": "code",
   "execution_count": 7,
   "metadata": {},
   "outputs": [
    {
     "name": "stdout",
     "output_type": "stream",
     "text": [
      "/          /       2             2  \\ \\\n",
      "|          | R2 (R1  - R2 R1 + X1 ) | |\n",
      "| X2 - sqrt| ---------------------- | |\n",
      "|          \\           R1           / |\n",
      "|                                     |\n",
      "|          /       2             2  \\ |\n",
      "|          | R2 (R1  - R2 R1 + X1 ) | |\n",
      "| X2 + sqrt| ---------------------- | |\n",
      "\\          \\           R1           / /\n",
      "\n"
     ]
    }
   ],
   "source": [
    "pretty(S.Xser)"
   ]
  },
  {
   "cell_type": "code",
   "execution_count": null,
   "metadata": {},
   "outputs": [],
   "source": []
  },
  {
   "cell_type": "code",
   "execution_count": null,
   "metadata": {},
   "outputs": [],
   "source": []
  },
  {
   "cell_type": "markdown",
   "metadata": {},
   "source": [
    "## Series-shunt\n",
    "\n",
    "![series_shunt](figures/series_shunt_configuration.png)\n",
    "\n",
    "$$\n",
    "Z_2 = R_2 + jX_2 = \\frac{1}{\\frac{1}{jX_{shu}} + \\frac{1}{R_1+jX_1+jX_{ser}}}\n",
    "$$\n"
   ]
  },
  {
   "cell_type": "code",
   "execution_count": 8,
   "metadata": {},
   "outputs": [],
   "source": [
    "Z2 = 1/(1/(j*Xshu) + 1/(R1+j*(Xser+X1)));"
   ]
  },
  {
   "cell_type": "code",
   "execution_count": 9,
   "metadata": {},
   "outputs": [
    {
     "name": "stdout",
     "output_type": "stream",
     "text": [
      "Warning: Solutions are only valid under certain conditions. To include parameters and conditions in the solution, specify the 'ReturnConditions' value as 'true'.\n",
      "> In sym/solve>warnIfParams (line 478)\n",
      "  In sym/solve (line 357)\n",
      "\n",
      "S = \n",
      "\n",
      "  struct with fields:\n",
      "\n",
      "    Xshu: [2x1 sym]\n",
      "    Xser: [2x1 sym]\n",
      "\n"
     ]
    }
   ],
   "source": [
    "eq1 = real(Z2) == R2;\n",
    "eq2 = imag(Z2) == X2;\n",
    "\n",
    "\n",
    "S=solve(eq1,eq2, Xshu ,Xser)"
   ]
  },
  {
   "cell_type": "code",
   "execution_count": 10,
   "metadata": {},
   "outputs": [
    {
     "name": "stdout",
     "output_type": "stream",
     "text": [
      "/                       2             2   \\\n",
      "| R1 X2 + sqrt(R1 R2 (R2  - R1 R2 + X2 )) |\n",
      "| --------------------------------------- |\n",
      "|                 R1 - R2                 |\n",
      "|                                         |\n",
      "|                       2             2   |\n",
      "| R1 X2 - sqrt(R1 R2 (R2  - R1 R2 + X2 )) |\n",
      "| --------------------------------------- |\n",
      "\\                 R1 - R2                 /\n",
      "\n"
     ]
    }
   ],
   "source": [
    "pretty(S.Xshu)"
   ]
  },
  {
   "cell_type": "code",
   "execution_count": 11,
   "metadata": {},
   "outputs": [
    {
     "name": "stdout",
     "output_type": "stream",
     "text": [
      "/                         2             2   \\\n",
      "|   R2 X1 - sqrt(R1 R2 (R2  - R1 R2 + X2 )) |\n",
      "| - --------------------------------------- |\n",
      "|                      R2                   |\n",
      "|                                           |\n",
      "|                         2             2   |\n",
      "|   R2 X1 + sqrt(R1 R2 (R2  - R1 R2 + X2 )) |\n",
      "| - --------------------------------------- |\n",
      "\\                      R2                   /\n",
      "\n"
     ]
    }
   ],
   "source": [
    "pretty(S.Xser)"
   ]
  },
  {
   "cell_type": "code",
   "execution_count": null,
   "metadata": {},
   "outputs": [],
   "source": []
  },
  {
   "cell_type": "markdown",
   "metadata": {},
   "source": [
    "#### Here you can find the Python implementation of this:\n",
    "https://urbanij.github.io/projects/matching_networks/"
   ]
  }
 ],
 "metadata": {
  "kernelspec": {
   "display_name": "Matlab",
   "language": "matlab",
   "name": "matlab"
  },
  "language_info": {
   "codemirror_mode": "octave",
   "file_extension": ".m",
   "help_links": [
    {
     "text": "MetaKernel Magics",
     "url": "https://metakernel.readthedocs.io/en/latest/source/README.html"
    }
   ],
   "mimetype": "text/x-octave",
   "name": "matlab",
   "version": "0.16.9"
  },
  "varInspector": {
   "cols": {
    "lenName": 16,
    "lenType": 16,
    "lenVar": 40
   },
   "kernels_config": {
    "python": {
     "delete_cmd_postfix": "",
     "delete_cmd_prefix": "del ",
     "library": "var_list.py",
     "varRefreshCmd": "print(var_dic_list())"
    },
    "r": {
     "delete_cmd_postfix": ") ",
     "delete_cmd_prefix": "rm(",
     "library": "var_list.r",
     "varRefreshCmd": "cat(var_dic_list()) "
    }
   },
   "types_to_exclude": [
    "module",
    "function",
    "builtin_function_or_method",
    "instance",
    "_Feature"
   ],
   "window_display": false
  }
 },
 "nbformat": 4,
 "nbformat_minor": 4
}
