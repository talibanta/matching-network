{
 "cells": [
  {
   "cell_type": "code",
   "execution_count": 19,
   "metadata": {},
   "outputs": [],
   "source": [
    "import matching_network"
   ]
  },
  {
   "cell_type": "code",
   "execution_count": 20,
   "metadata": {},
   "outputs": [
    {
     "data": {
      "text/plain": [
       "From (90+32j) Ω to 175 Ω\n",
       "\n",
       "normalized starting impedance = (90+32j)Ω/175Ω = 0.51429+0.18286j\n",
       "\n",
       "#solutions: 2\n",
       "\n",
       "series-shunt\n",
       "\tSeries Inductor:\n",
       "\tX = 55.464 Ω ⇔ B = -18.03 mS\n",
       "\t\u001b[1mL\u001b[0;0m = \u001b[1m9.8082 nH\u001b[0;0m  (@ 900 MHz)\n",
       "\tShunt Capacitor:\n",
       "\tX = -180.07 Ω ⇔ B = 5.5533 mS\n",
       "\t\u001b[1mC\u001b[0;0m = \u001b[1m982.04 fF\u001b[0;0m  (@ 900 MHz)\n",
       "series-shunt\n",
       "\tSeries Capacitor:\n",
       "\tX = -119.46 Ω ⇔ B = 8.3707 mS\n",
       "\t\u001b[1mC\u001b[0;0m = \u001b[1m1.4803 pF\u001b[0;0m  (@ 900 MHz)\n",
       "\tShunt Inductor:\n",
       "\tX = 180.07 Ω ⇔ B = -5.5533 mS\n",
       "\t\u001b[1mL\u001b[0;0m = \u001b[1m31.844 nH\u001b[0;0m  (@ 900 MHz)"
      ]
     },
     "execution_count": 20,
     "metadata": {},
     "output_type": "execute_result"
    }
   ],
   "source": [
    "matching_network.L_section.L_section_matching(90+32j, 175, 900e6).match()"
   ]
  },
  {
   "cell_type": "code",
   "execution_count": null,
   "metadata": {},
   "outputs": [],
   "source": [
    "\n"
   ]
  },
  {
   "cell_type": "code",
   "execution_count": null,
   "metadata": {},
   "outputs": [],
   "source": []
  }
 ],
 "metadata": {
  "kernelspec": {
   "display_name": "Python 3",
   "language": "python",
   "name": "python3"
  },
  "language_info": {
   "codemirror_mode": {
    "name": "ipython",
    "version": 3
   },
   "file_extension": ".py",
   "mimetype": "text/x-python",
   "name": "python",
   "nbconvert_exporter": "python",
   "pygments_lexer": "ipython3",
   "version": "3.8.1"
  }
 },
 "nbformat": 4,
 "nbformat_minor": 4
}
