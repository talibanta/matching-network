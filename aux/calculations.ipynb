{
 "cells": [
  {
   "cell_type": "markdown",
   "metadata": {},
   "source": [
    "### L section lumped parameters matching network calculations\n",
    "\n",
    "https://urbanij.github.io/projects/matching_networks/"
   ]
  },
  {
   "cell_type": "code",
   "execution_count": 1,
   "metadata": {},
   "outputs": [],
   "source": [
    "import sympy\n",
    "\n",
    "sympy.init_printing()"
   ]
  },
  {
   "cell_type": "code",
   "execution_count": 2,
   "metadata": {},
   "outputs": [],
   "source": [
    "R1 = sympy.Symbol(\"R1\", real=True)      # Ω  \n",
    "X1 = sympy.Symbol(\"X1\", real=True)      # Ω \n",
    "\n",
    "R2 = sympy.Symbol(\"R2\", real=True)      # Ω \n",
    "X2 = sympy.Symbol(\"X2\", real=True)      # Ω \n",
    "\n",
    "Xshu = sympy.Symbol(\"Xshu\", real=True)  # Ω \n",
    "Xser = sympy.Symbol(\"Xser\", real=True)  # Ω "
   ]
  },
  {
   "cell_type": "code",
   "execution_count": null,
   "metadata": {},
   "outputs": [],
   "source": []
  },
  {
   "cell_type": "code",
   "execution_count": null,
   "metadata": {},
   "outputs": [],
   "source": []
  },
  {
   "cell_type": "markdown",
   "metadata": {},
   "source": [
    "## shunt - series configuration "
   ]
  },
  {
   "cell_type": "code",
   "execution_count": 14,
   "metadata": {},
   "outputs": [
    {
     "data": {
      "image/png": "[encoded data removed]",
      "text/latex": [
       "$\\displaystyle 1.0 i Xser + \\frac{1}{\\frac{1}{R_{1} + 1.0 i X_{1}} - \\frac{1.0 i}{Xshu}}$"
      ],
      "text/plain": [
       "                       1          \n",
       "1.0⋅ⅈ⋅Xser + ─────────────────────\n",
       "                   1         1.0⋅ⅈ\n",
       "             ───────────── - ─────\n",
       "             R₁ + 1.0⋅ⅈ⋅X₁    Xshu"
      ]
     },
     "execution_count": 14,
     "metadata": {},
     "output_type": "execute_result"
    }
   ],
   "source": [
    "Z2 = 1j*Xser + 1/(1/(1j*Xshu) + 1/(R1+1j*X1)) \n",
    "Z2"
   ]
  },
  {
   "cell_type": "code",
   "execution_count": 6,
   "metadata": {},
   "outputs": [],
   "source": [
    "eq1 = sympy.Eq( sympy.re(Z2), R2)\n",
    "eq2 = sympy.Eq( sympy.im(Z2), X2)"
   ]
  },
  {
   "cell_type": "code",
   "execution_count": 7,
   "metadata": {},
   "outputs": [],
   "source": [
    "S = sympy.solve((eq1, eq2), (Xshu, Xser))"
   ]
  },
  {
   "cell_type": "code",
   "execution_count": 8,
   "metadata": {},
   "outputs": [
    {
     "data": {
      "image/png": "[encoded data removed]",
      "text/latex": [
       "$\\displaystyle \\left[ \\left( \\frac{R_{2} X_{1} - \\sqrt{R_{1} R_{2} \\left(R_{1}^{2} - R_{1} R_{2} + X_{1}^{2}\\right)}}{R_{1} - R_{2}}, \\  \\frac{R_{1} X_{2} + \\sqrt{R_{1} R_{2} \\left(R_{1}^{2} - R_{1} R_{2} + X_{1}^{2}\\right)}}{R_{1}}\\right), \\  \\left( \\frac{R_{2} X_{1} + \\sqrt{R_{1} R_{2} \\left(R_{1}^{2} - R_{1} R_{2} + X_{1}^{2}\\right)}}{R_{1} - R_{2}}, \\  \\frac{R_{1} X_{2} - \\sqrt{R_{1} R_{2} \\left(R_{1}^{2} - R_{1} R_{2} + X_{1}^{2}\\right)}}{R_{1}}\\right)\\right]$"
      ],
      "text/plain": [
       "⎡⎛           ___________________________             _________________________\n",
       "⎢⎜          ╱       ⎛  2             2⎞             ╱       ⎛  2             2\n",
       "⎢⎜R₂⋅X₁ - ╲╱  R₁⋅R₂⋅⎝R₁  - R₁⋅R₂ + X₁ ⎠   R₁⋅X₂ + ╲╱  R₁⋅R₂⋅⎝R₁  - R₁⋅R₂ + X₁ \n",
       "⎢⎜──────────────────────────────────────, ────────────────────────────────────\n",
       "⎣⎝               R₁ - R₂                                    R₁                \n",
       "\n",
       "__⎞  ⎛           ___________________________             _____________________\n",
       "⎞ ⎟  ⎜          ╱       ⎛  2             2⎞             ╱       ⎛  2          \n",
       "⎠ ⎟  ⎜R₂⋅X₁ + ╲╱  R₁⋅R₂⋅⎝R₁  - R₁⋅R₂ + X₁ ⎠   R₁⋅X₂ - ╲╱  R₁⋅R₂⋅⎝R₁  - R₁⋅R₂ +\n",
       "──⎟, ⎜──────────────────────────────────────, ────────────────────────────────\n",
       "  ⎠  ⎝               R₁ - R₂                                    R₁            \n",
       "\n",
       "______⎞⎤\n",
       "   2⎞ ⎟⎥\n",
       " X₁ ⎠ ⎟⎥\n",
       "──────⎟⎥\n",
       "      ⎠⎦"
      ]
     },
     "execution_count": 8,
     "metadata": {},
     "output_type": "execute_result"
    }
   ],
   "source": [
    "S"
   ]
  },
  {
   "cell_type": "code",
   "execution_count": null,
   "metadata": {},
   "outputs": [],
   "source": []
  },
  {
   "cell_type": "code",
   "execution_count": null,
   "metadata": {},
   "outputs": [],
   "source": []
  },
  {
   "cell_type": "markdown",
   "metadata": {},
   "source": [
    "## series - shunt configuration "
   ]
  },
  {
   "cell_type": "code",
   "execution_count": 9,
   "metadata": {},
   "outputs": [],
   "source": [
    "Z2 = 1/(1/(1j*Xshu) + 1/(R1+1j*(Xser+X1)))"
   ]
  },
  {
   "cell_type": "code",
   "execution_count": 10,
   "metadata": {},
   "outputs": [
    {
     "data": {
      "image/png": "[encoded data removed]",
      "text/latex": [
       "$\\displaystyle \\frac{1}{\\frac{1}{R_{1} + 1.0 i \\left(X_{1} + Xser\\right)} - \\frac{1.0 i}{Xshu}}$"
      ],
      "text/plain": [
       "              1               \n",
       "──────────────────────────────\n",
       "          1              1.0⋅ⅈ\n",
       "────────────────────── - ─────\n",
       "R₁ + 1.0⋅ⅈ⋅(X₁ + Xser)    Xshu"
      ]
     },
     "execution_count": 10,
     "metadata": {},
     "output_type": "execute_result"
    }
   ],
   "source": [
    "Z2"
   ]
  },
  {
   "cell_type": "code",
   "execution_count": 11,
   "metadata": {},
   "outputs": [],
   "source": [
    "eq1 = sympy.Eq( sympy.re(Z2), R2)\n",
    "eq2 = sympy.Eq( sympy.im(Z2), X2)"
   ]
  },
  {
   "cell_type": "code",
   "execution_count": 12,
   "metadata": {},
   "outputs": [],
   "source": [
    "S = sympy.solve((eq1, eq2), (Xshu, Xser))"
   ]
  },
  {
   "cell_type": "code",
   "execution_count": 13,
   "metadata": {},
   "outputs": [
    {
     "data": {
      "image/png": "[encoded data removed]",
      "text/latex": [
       "$\\displaystyle \\left[ \\left( \\frac{R_{1} X_{2} - \\sqrt{R_{1} R_{2} \\left(- R_{1} R_{2} + R_{2}^{2} + X_{2}^{2}\\right)}}{R_{1} - R_{2}}, \\  - \\frac{R_{2} X_{1} + \\sqrt{R_{1} R_{2} \\left(- R_{1} R_{2} + R_{2}^{2} + X_{2}^{2}\\right)}}{R_{2}}\\right), \\  \\left( \\frac{R_{1} X_{2} + \\sqrt{R_{1} R_{2} \\left(- R_{1} R_{2} + R_{2}^{2} + X_{2}^{2}\\right)}}{R_{1} - R_{2}}, \\  \\frac{- R_{2} X_{1} + \\sqrt{R_{1} R_{2} \\left(- R_{1} R_{2} + R_{2}^{2} + X_{2}^{2}\\right)}}{R_{2}}\\right)\\right]$"
      ],
      "text/plain": [
       "⎡⎛           ____________________________   ⎛           ______________________\n",
       "⎢⎜          ╱       ⎛           2     2⎞    ⎜          ╱       ⎛           2  \n",
       "⎢⎜R₁⋅X₂ - ╲╱  R₁⋅R₂⋅⎝-R₁⋅R₂ + R₂  + X₂ ⎠   -⎝R₂⋅X₁ + ╲╱  R₁⋅R₂⋅⎝-R₁⋅R₂ + R₂  +\n",
       "⎢⎜───────────────────────────────────────, ───────────────────────────────────\n",
       "⎣⎝                R₁ - R₂                                       R₂            \n",
       "\n",
       "______⎞ ⎞  ⎛           ____________________________              _____________\n",
       "   2⎞ ⎟ ⎟  ⎜          ╱       ⎛           2     2⎞              ╱       ⎛     \n",
       " X₂ ⎠ ⎠ ⎟  ⎜R₁⋅X₂ + ╲╱  R₁⋅R₂⋅⎝-R₁⋅R₂ + R₂  + X₂ ⎠   -R₂⋅X₁ + ╲╱  R₁⋅R₂⋅⎝-R₁⋅R\n",
       "────────⎟, ⎜───────────────────────────────────────, ─────────────────────────\n",
       "        ⎠  ⎝                R₁ - R₂                                     R₂    \n",
       "\n",
       "_______________⎞⎤\n",
       "      2     2⎞ ⎟⎥\n",
       "₂ + R₂  + X₂ ⎠ ⎟⎥\n",
       "───────────────⎟⎥\n",
       "               ⎠⎦"
      ]
     },
     "execution_count": 13,
     "metadata": {},
     "output_type": "execute_result"
    }
   ],
   "source": [
    "S"
   ]
  },
  {
   "cell_type": "code",
   "execution_count": null,
   "metadata": {},
   "outputs": [],
   "source": []
  }
 ],
 "metadata": {
  "kernelspec": {
   "display_name": "Python 3",
   "language": "python",
   "name": "python3"
  },
  "language_info": {
   "codemirror_mode": {
    "name": "ipython",
    "version": 3
   },
   "file_extension": ".py",
   "mimetype": "text/x-python",
   "name": "python",
   "nbconvert_exporter": "python",
   "pygments_lexer": "ipython3",
   "version": "3.8.1"
  },
  "varInspector": {
   "cols": {
    "lenName": 16,
    "lenType": 16,
    "lenVar": 40
   },
   "kernels_config": {
    "python": {
     "delete_cmd_postfix": "",
     "delete_cmd_prefix": "del ",
     "library": "var_list.py",
     "varRefreshCmd": "print(var_dic_list())"
    },
    "r": {
     "delete_cmd_postfix": ") ",
     "delete_cmd_prefix": "rm(",
     "library": "var_list.r",
     "varRefreshCmd": "cat(var_dic_list()) "
    }
   },
   "types_to_exclude": [
    "module",
    "function",
    "builtin_function_or_method",
    "instance",
    "_Feature"
   ],
   "window_display": false
  }
 },
 "nbformat": 4,
 "nbformat_minor": 4
}
